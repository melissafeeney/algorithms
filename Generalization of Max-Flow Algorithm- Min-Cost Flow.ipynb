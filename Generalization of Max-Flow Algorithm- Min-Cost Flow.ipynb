{
 "cells": [
  {
   "cell_type": "markdown",
   "metadata": {},
   "source": [
    "# Generalizations of Max-Flow\n",
    "\n",
    "The purpose of this assignment is to learn about the min-cost flow problem, a generalization of max-flow, and to familiarize yourself with implementing and solving linear programs."
   ]
  },
  {
   "cell_type": "markdown",
   "metadata": {},
   "source": [
    "## Min-Cost Flow\n",
    "\n",
    "Recall that a flow network with demands consists of a directed graph $G = (V, E)$, where each edge $(i,j) \\in E$ has a positive integer capacity $c_{ij}$ and each node $i \\in V$ has an integer demand $d_i$ (see also Problem 1 in hw3t). In a *min-cost flow* problem, each edge $(i,j) \\in E$ also has a cost (or weight) $w_{ij}$. (Note that this input generalizes the input to two important problems we discussed so far: in max flow, the edge weights were not important while in shortest paths, the edge capacities were not important.) \n",
    "\n",
    "Given a flow network with capacities and costs, the goal is to find a *feasible* flow $f: E \\rightarrow R^+$ --that is, a flow satisfying edge capacity constraints and node demands-- that minimizes the total cost of the flow. Explicitly, the problem can be formulated as a linear program."
   ]
  },
  {
   "cell_type": "markdown",
   "metadata": {},
   "source": [
    "### Question 1\n",
    "\n",
    "Answer Problem 1 in hw4-theoretical."
   ]
  },
  {
   "cell_type": "markdown",
   "metadata": {},
   "source": [
    "### Question 2\n",
    "\n",
    "To implement your reduction from Problem 1 in hw4t, you will work with some standard benchmark instances for min-cost flow included in the hw4p folder on canvas. The format of the data is described in the Info file. You are to read in the graph from the data file in a form that can be solved using NetworkX's `min_cost_flow` function. Note that the data sometimes lists multiple edges between the same nodes, but with different costs or capacities. In forming the graph, you need to implement your reduction from the previous question and form a `DiGraph` instance, because the `min_cost_flow` function cannot handle multi-edges, even though the package offers `MultiDiGraph` objects."
   ]
  },
  {
   "cell_type": "code",
   "execution_count": 1,
   "metadata": {},
   "outputs": [],
   "source": [
    "import networkx as nx\n",
    "\n",
    "def create_graph(infile):\n",
    "\n",
    "# Read in the datafile\n",
    "    with open(infile, 'r') as description:\n",
    "        data = description.read()\n",
    "    \n",
    "    components = data.strip().splitlines()\n",
    "\n",
    "    \n",
    "# Split data into descriptions by component used to create graph\n",
    "    comments = []\n",
    "    problem = []\n",
    "    node_desc = []\n",
    "    arc_desc = []\n",
    "\n",
    "    for i in components: \n",
    "        if i[0] == 'c':\n",
    "            comments.append(i)\n",
    "        elif i[0] == 'p':\n",
    "            problem.append(i)\n",
    "        elif i[0] == 'n':\n",
    "            node_desc.append(i)\n",
    "        elif i[0] == 'a':\n",
    "            arc_desc.append(i)\n",
    "\n",
    "            \n",
    "# Begin to create the DiGraph\n",
    "    graph = nx.DiGraph()\n",
    "\n",
    "    \n",
    "# Generate the nodes using problem, numbered 1 through n      \n",
    "    num_nodes = int(problem[0].split()[2])\n",
    "    graph.add_nodes_from(range(1, num_nodes + 1), demand = 0)\n",
    "\n",
    "    \n",
    "# Generate a list of nodes with demands, using node_desc, add them to the graph\n",
    "    for i in node_desc:\n",
    "        node_demands = i.split()\n",
    "        n = int(node_demands[1])\n",
    "        d = int(node_demands[2])\n",
    "        graph.node[n]['demand'] = d\n",
    "\n",
    "        \n",
    "# Add edges from head to tail nodes, with capacities and weights as noted in the file, if an edge between the two does not already exist\n",
    "# If an edge exists between the nodes, proceed to the else clause; add an intermediate node with a demand of 0\n",
    "\n",
    "    for i in arc_desc:\n",
    "        e = i.split()\n",
    "        tail = int(e[1])\n",
    "        head = int(e[2])\n",
    "        cap = int(e[4])\n",
    "        cost = int(e[5])\n",
    "        if graph.has_edge(head, tail) == False:\n",
    "            graph.add_edge(head, tail, capacity = cap, weight = cost)\n",
    "        else:\n",
    "            num_nodes = num_nodes + 1\n",
    "            graph.add_node(num_nodes, demand = 0) # Add intermediate node with demand 0\n",
    "            graph.add_edge(head, num_nodes, capacity = cap, weight = cost) # Add edge from head node to intermediate node, assign same capacity to maintain demand of 0 at this node\n",
    "            graph.add_edge(num_nodes, tail, capacity = cap, weight = 0) # Add edge from intermediate node to tail node, assign same capacity to maintain demand of 0 at this node\n",
    "\n",
    "    return graph\n"
   ]
  },
  {
   "cell_type": "raw",
   "metadata": {},
   "source": [
    "The following will check that your code outputs the correct min cost flow values on several test instances."
   ]
  },
  {
   "cell_type": "code",
   "execution_count": 2,
   "metadata": {},
   "outputs": [
    {
     "name": "stdout",
     "output_type": "stream",
     "text": [
      "Correct value for _40 instance: True\n",
      "Correct value for _6830 instance: True\n",
      "Correct value for _176280 instance: True\n"
     ]
    }
   ],
   "source": [
    "G_40 = create_graph('gte_bad.40')\n",
    "G_6830 = create_graph('gte_bad.6830')\n",
    "G_176280 = create_graph('gte_bad.176280')\n",
    "\n",
    "print(\"Correct value for _40 instance:\", nx.flow.min_cost_flow_cost(G_40) == 52099553858)\n",
    "print(\"Correct value for _6830 instance:\", nx.flow.min_cost_flow_cost(G_6830) == 299390431788)\n",
    "print(\"Correct value for _176280 instance:\", nx.flow.min_cost_flow_cost(G_176280) == 510585093810)"
   ]
  },
  {
   "cell_type": "markdown",
   "metadata": {},
   "source": [
    "## Linear Programming\n",
    "\n",
    "Instead of using special-purpose min-cost flow solvers, you will now formulate the problems as linear programs and use general-purpose LP solvers to find the solutions."
   ]
  },
  {
   "cell_type": "markdown",
   "metadata": {},
   "source": [
    "### Question 3\n",
    "\n",
    "Implement the following function to formulate the flow LP and return the optimal value (i.e., minimum cost over feasible flows)."
   ]
  },
  {
   "cell_type": "code",
   "execution_count": 3,
   "metadata": {},
   "outputs": [],
   "source": [
    "import pulp\n",
    "\n",
    "def lp_flow_value(G):\n",
    "    \n",
    "    prob = pulp.LpProblem('LP_Flow_Value', pulp.LpMinimize)\n",
    "    demand = nx.get_node_attributes(G, 'demand')\n",
    "    cap = nx.get_edge_attributes(G, 'capacity')\n",
    "    cost = nx.get_edge_attributes(G, 'weight')\n",
    "    \n",
    "    \n",
    "# The variables- the flow on each edge\n",
    "    flow = pulp.LpVariable.dicts('flow', G.edges(), 0, cat = 'Integer') \n",
    "\n",
    "    \n",
    "# Objective Function- minimize flow cost\n",
    "    cost_list = []\n",
    "    for edge in G.edges():\n",
    "        edge_cost = flow[edge] * cost[edge]\n",
    "        cost_list.append(edge_cost)\n",
    "        \n",
    "    prob += sum(cost_list)\n",
    "\n",
    "\n",
    "# Capacity constraint\n",
    "    for edge in G.edges():\n",
    "        prob += flow[edge] <= cap[edge]\n",
    "\n",
    "        \n",
    "# Demand constraint\n",
    "    for node in G.nodes():\n",
    "        flow_in = sum(flow[i] for i in G.in_edges(node))\n",
    "        flow_out = sum(flow[o] for o in G.out_edges(node))\n",
    "        prob += flow_in - flow_out == demand[node]\n",
    "        \n",
    "        \n",
    "    prob.solve()\n",
    "    \n",
    "    solution = int(pulp.value(prob.objective))\n",
    "    \n",
    "    return solution\n"
   ]
  },
  {
   "cell_type": "markdown",
   "metadata": {},
   "source": [
    "The following will check that the LP finds the same optimal values as previously."
   ]
  },
  {
   "cell_type": "code",
   "execution_count": 4,
   "metadata": {},
   "outputs": [
    {
     "name": "stdout",
     "output_type": "stream",
     "text": [
      "Correct value for _40 instance: True\n",
      "Correct value for _6830 instance: True\n",
      "Correct value for _176280 instance: True\n"
     ]
    }
   ],
   "source": [
    "print( \"Correct value for _40 instance:\", lp_flow_value(G_40) == 52099553858)\n",
    "print( \"Correct value for _6830 instance:\", lp_flow_value(G_6830) == 299390431788)\n",
    "print( \"Correct value for _176280 instance:\", lp_flow_value(G_176280) == 510585093810)"
   ]
  }
 ],
 "metadata": {
  "kernelspec": {
   "display_name": "Python 3",
   "language": "python",
   "name": "python3"
  },
  "language_info": {
   "codemirror_mode": {
    "name": "ipython",
    "version": 3
   },
   "file_extension": ".py",
   "mimetype": "text/x-python",
   "name": "python",
   "nbconvert_exporter": "python",
   "pygments_lexer": "ipython3",
   "version": "3.8.5"
  }
 },
 "nbformat": 4,
 "nbformat_minor": 1
}
